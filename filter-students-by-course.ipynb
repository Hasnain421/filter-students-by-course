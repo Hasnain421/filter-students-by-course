{
 "cells": [
  {
   "cell_type": "code",
   "execution_count": null,
   "id": "72ae1f83-fcc7-48f7-9219-a6cde473050f",
   "metadata": {},
   "outputs": [],
   "source": []
  },
  {
   "cell_type": "code",
   "execution_count": 3,
   "id": "ebe5302b-2aeb-4d63-88ab-08ef6a6318b1",
   "metadata": {},
   "outputs": [
    {
     "name": "stdout",
     "output_type": "stream",
     "text": [
      "{'name': 'Salman', 'age': 24, 'course': 'Python'}\n",
      "{'name': 'Hashir', 'age': 18, 'course': 'Python'}\n"
     ]
    }
   ],
   "source": [
    "students = [\n",
    "            {'name':'Farhan','age':22, 'course':'DataScience'},\n",
    "            {'name':'Salman','age':24, 'course':'Python'},\n",
    "            {'name':'Ali','age':30, 'course':'Web'},\n",
    "            {'name':'Hashir','age':18, 'course':'Python'},\n",
    "            {'name':'Sameer','age':24, 'course':'Web'}\n",
    "           ]\n",
    "for std in students:\n",
    "    if std.get('course') =='Python':\n",
    "       print(std)"
   ]
  },
  {
   "cell_type": "code",
   "execution_count": null,
   "id": "bfb669f5-fcc8-4b92-95e9-8b2060f52ec0",
   "metadata": {},
   "outputs": [],
   "source": []
  }
 ],
 "metadata": {
  "kernelspec": {
   "display_name": "Python 3 (ipykernel)",
   "language": "python",
   "name": "python3"
  },
  "language_info": {
   "codemirror_mode": {
    "name": "ipython",
    "version": 3
   },
   "file_extension": ".py",
   "mimetype": "text/x-python",
   "name": "python",
   "nbconvert_exporter": "python",
   "pygments_lexer": "ipython3",
   "version": "3.13.5"
  }
 },
 "nbformat": 4,
 "nbformat_minor": 5
}
